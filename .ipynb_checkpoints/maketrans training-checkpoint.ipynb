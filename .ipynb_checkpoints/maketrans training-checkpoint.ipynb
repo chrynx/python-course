{
 "cells": [
  {
   "cell_type": "code",
   "execution_count": 6,
   "metadata": {
    "collapsed": true
   },
   "outputs": [],
   "source": [
    "text = \"g fmnc wms bgblr rpylqjyrc gr zw fylb. rfyrq ufyr amknsrcpq ypc dmp. bmgle gr gl zw fylb gq glcddgagclr ylb rfyr'q ufw rfgq rcvr gq qm jmle. sqgle qrpgle.kyicrpylq() gq pcamkkclbcb. lmu ynnjw ml rfc spj.\""
   ]
  },
  {
   "cell_type": "code",
   "execution_count": 7,
   "metadata": {},
   "outputs": [],
   "source": [
    "text_list = []"
   ]
  },
  {
   "cell_type": "code",
   "execution_count": 8,
   "metadata": {},
   "outputs": [],
   "source": [
    "for letter in text:\n",
    "    if letter == 'a':\n",
    "        text_list.append('c')\n",
    "    elif letter == 'b':\n",
    "        text_list.append('d')\n",
    "    elif letter == 'c':\n",
    "        text_list.append('e')\n",
    "    elif letter == 'd':\n",
    "        text_list.append('f')\n",
    "    elif letter == 'e':\n",
    "        text_list.append('g')\n",
    "    elif letter == 'f':\n",
    "        text_list.append('h')\n",
    "    elif letter == 'g':\n",
    "        text_list.append('i')\n",
    "    elif letter == 'h':\n",
    "        text_list.append('j')\n",
    "    elif letter == 'i':\n",
    "        text_list.append('k')\n",
    "    elif letter == 'j':\n",
    "        text_list.append('l')\n",
    "    elif letter == 'k':\n",
    "        text_list.append('m')\n",
    "    elif letter == 'l':\n",
    "        text_list.append('n')\n",
    "    elif letter == 'm':\n",
    "        text_list.append('o')\n",
    "    elif letter == 'n':\n",
    "        text_list.append('p')\n",
    "    elif letter == 'o':\n",
    "        text_list.append('q')\n",
    "    elif letter == 'p':\n",
    "        text_list.append('r')\n",
    "    elif letter == 'q':\n",
    "        text_list.append('s')\n",
    "    elif letter == 'r':\n",
    "        text_list.append('t')\n",
    "    elif letter == 's':\n",
    "        text_list.append('u')\n",
    "    elif letter == 't':\n",
    "        text_list.append('v')\n",
    "    elif letter == 'u':\n",
    "        text_list.append('w')\n",
    "    elif letter == 'v':\n",
    "        text_list.append('x')\n",
    "    elif letter == 'w':\n",
    "        text_list.append('y')\n",
    "    elif letter == 'x':\n",
    "        text_list.append('z')\n",
    "    elif letter == 'y':\n",
    "        text_list.append('a')\n",
    "    elif letter == 'z':\n",
    "        text_list.append('b')\n",
    "    else:\n",
    "        text_list.append(letter)"
   ]
  },
  {
   "cell_type": "code",
   "execution_count": 9,
   "metadata": {},
   "outputs": [],
   "source": [
    "new_text = ''.join(text_list)"
   ]
  },
  {
   "cell_type": "code",
   "execution_count": 10,
   "metadata": {},
   "outputs": [
    {
     "data": {
      "text/plain": [
       "\"i hope you didnt translate it by hand. thats what computers are for. doing it in by hand is inefficient and that's why this text is so long. using string.maketrans() is recommended. now apply on the url.\""
      ]
     },
     "execution_count": 10,
     "metadata": {},
     "output_type": "execute_result"
    }
   ],
   "source": [
    "new_text"
   ]
  },
  {
   "cell_type": "code",
   "execution_count": 20,
   "metadata": {},
   "outputs": [],
   "source": [
    "from string import maketrans\n",
    "text = 'everybody thinks twice before solving this.'"
   ]
  },
  {
   "cell_type": "code",
   "execution_count": 21,
   "metadata": {
    "collapsed": true
   },
   "outputs": [],
   "source": [
    "a = 'abcdefghijklmnopqrstuvwxyz'\n",
    "b = 'cdefghijklmnopqrstuvwxyzab'"
   ]
  },
  {
   "cell_type": "code",
   "execution_count": 22,
   "metadata": {},
   "outputs": [
    {
     "data": {
      "text/plain": [
       "'gxgtadqfa vjkpmu vykeg dghqtg uqnxkpi vjku.'"
      ]
     },
     "execution_count": 22,
     "metadata": {},
     "output_type": "execute_result"
    }
   ],
   "source": [
    "text.translate(maketrans(a,b))"
   ]
  },
  {
   "cell_type": "code",
   "execution_count": null,
   "metadata": {
    "collapsed": true
   },
   "outputs": [],
   "source": []
  }
 ],
 "metadata": {
  "kernelspec": {
   "display_name": "Python 2",
   "language": "python",
   "name": "python2"
  },
  "language_info": {
   "codemirror_mode": {
    "name": "ipython",
    "version": 2
   },
   "file_extension": ".py",
   "mimetype": "text/x-python",
   "name": "python",
   "nbconvert_exporter": "python",
   "pygments_lexer": "ipython2",
   "version": "2.7.14"
  }
 },
 "nbformat": 4,
 "nbformat_minor": 2
}

{
 "cells": [
  {
   "cell_type": "code",
   "execution_count": 47,
   "metadata": {
    "collapsed": true
   },
   "outputs": [],
   "source": [
    "l = [1,2,3,4,5]"
   ]
  },
  {
   "cell_type": "code",
   "execution_count": 48,
   "metadata": {},
   "outputs": [
    {
     "name": "stdout",
     "output_type": "stream",
     "text": [
      "[1, 2, 3, 4, 5, 6]\n",
      "[1, 2, 3, 4, 5, 6, '1', '2', '3']\n",
      "0\n",
      "[1, 2, 'd', 3, 4, 5, 6, '1', '2', '3']\n",
      "[2, 'd', 3, 4, 5, 6, '1', '2', '3']\n",
      "['d', 3, 4, 5, 6, '1', '2', '3']\n",
      "['3', '2', '1', 6, 5, 4, 3, 'd']\n",
      "[3, 4, 5, 6, '1', '2', '3', 'd']\n"
     ]
    }
   ],
   "source": [
    "#adds an element to the end of the list\n",
    "l.append(6)\n",
    "#returns the number of occurences\n",
    "l.count(2)\n",
    "print l\n",
    "#same as append but reitable objects\n",
    "l.extend(['1','2','3'])\n",
    "print l\n",
    "#returns the index of the object inside\n",
    "print l.index(1)\n",
    "#adds the second argument at the index of the list before the method\n",
    "l.insert(2,'d')\n",
    "print l\n",
    "#gets rid of the element at the index specified\n",
    "l.pop(0)\n",
    "print l\n",
    "#removes the first occurence of the object inside\n",
    "l.remove(2)\n",
    "print l\n",
    "l.reverse()\n",
    "print l\n",
    "l.sort()\n",
    "print l"
   ]
  },
  {
   "cell_type": "code",
   "execution_count": null,
   "metadata": {
    "collapsed": true
   },
   "outputs": [],
   "source": []
  }
 ],
 "metadata": {
  "kernelspec": {
   "display_name": "Python 2",
   "language": "python",
   "name": "python2"
  },
  "language_info": {
   "codemirror_mode": {
    "name": "ipython",
    "version": 2
   },
   "file_extension": ".py",
   "mimetype": "text/x-python",
   "name": "python",
   "nbconvert_exporter": "python",
   "pygments_lexer": "ipython2",
   "version": "2.7.14"
  }
 },
 "nbformat": 4,
 "nbformat_minor": 2
}
